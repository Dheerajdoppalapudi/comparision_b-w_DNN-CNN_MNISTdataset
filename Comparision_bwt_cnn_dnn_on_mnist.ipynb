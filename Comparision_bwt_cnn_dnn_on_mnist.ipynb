{
 "cells": [
  {
   "cell_type": "code",
   "execution_count": 1,
   "metadata": {
    "id": "GbZyNxjzK4HR"
   },
   "outputs": [],
   "source": [
    "import tensorflow as tf\n",
    "import numpy as np\n",
    "import pandas as pd\n",
    "import random\n",
    "import matplotlib.pyplot as plt"
   ]
  },
  {
   "cell_type": "code",
   "execution_count": 2,
   "metadata": {
    "colab": {
     "base_uri": "https://localhost:8080/",
     "height": 299
    },
    "id": "xK9ViPTMxBe3",
    "outputId": "41580512-908a-4dfa-916f-2714caeade7b"
   },
   "outputs": [
    {
     "name": "stdout",
     "output_type": "stream",
     "text": [
      "AxesImage(54,36;334.8x217.44)\n",
      "9\n"
     ]
    },
    {
     "data": {
      "image/png": "[encoded data removed]",
      "text/plain": [
       "<Figure size 432x288 with 1 Axes>"
      ]
     },
     "metadata": {
      "needs_background": "light"
     },
     "output_type": "display_data"
    }
   ],
   "source": [
    "# Improving Computer Vision Accuracy using Convolutions\n",
    "mnist = tf.keras.datasets.fashion_mnist\n",
    "(training_images, training_labels), (test_images, test_labels) = mnist.load_data()\n",
    "print(plt.imshow(training_images[0]))\n",
    "print(training_labels[0])"
   ]
  },
  {
   "cell_type": "code",
   "execution_count": 3,
   "metadata": {
    "id": "TO4hI_3b0QDd"
   },
   "outputs": [],
   "source": [
    "training_images=training_images / 255.0\n",
    "test_images=test_images / 255.0"
   ]
  },
  {
   "cell_type": "code",
   "execution_count": 4,
   "metadata": {
    "colab": {
     "base_uri": "https://localhost:8080/"
    },
    "id": "8_jKzQPxz446",
    "outputId": "e5e194b9-5989-4425-8b97-a5e80fc7775c"
   },
   "outputs": [
    {
     "name": "stdout",
     "output_type": "stream",
     "text": [
      "training_images (60000, 28, 28)\n",
      "training_labels (60000,)\n",
      "test_images (10000, 28, 28)\n",
      "test_labels (10000,)\n"
     ]
    }
   ],
   "source": [
    "print(\"training_images\", training_images.shape)\n",
    "print(\"training_labels\", training_labels.shape)\n",
    "print(\"test_images\", test_images.shape)\n",
    "print(\"test_labels\", test_labels.shape)"
   ]
  },
  {
   "cell_type": "code",
   "execution_count": 5,
   "metadata": {
    "colab": {
     "base_uri": "https://localhost:8080/"
    },
    "id": "81EE6DGExWYv",
    "outputId": "8c38c0af-155f-4f0f-e084-e0d0e771c6f8"
   },
   "outputs": [
    {
     "name": "stdout",
     "output_type": "stream",
     "text": [
      "Model: \"sequential\"\n",
      "_________________________________________________________________\n",
      "Layer (type)                 Output Shape              Param #   \n",
      "=================================================================\n",
      "flatten (Flatten)            (None, 784)               0         \n",
      "_________________________________________________________________\n",
      "dense (Dense)                (None, 128)               100480    \n",
      "_________________________________________________________________\n",
      "dense_1 (Dense)              (None, 10)                1290      \n",
      "=================================================================\n",
      "Total params: 101,770\n",
      "Trainable params: 101,770\n",
      "Non-trainable params: 0\n",
      "_________________________________________________________________\n"
     ]
    }
   ],
   "source": [
    "# model 1 without using convolutions.\n",
    "model1 = tf.keras.models.Sequential([\n",
    "  tf.keras.layers.Flatten(input_shape=(1,28,28)),\n",
    "  tf.keras.layers.Dense(128, activation=tf.nn.relu),\n",
    "  tf.keras.layers.Dense(10, activation=tf.nn.softmax)\n",
    "])\n",
    "model1.summary()"
   ]
  },
  {
   "cell_type": "code",
   "execution_count": 6,
   "metadata": {
    "colab": {
     "base_uri": "https://localhost:8080/"
    },
    "id": "tYI8UGVQxgMf",
    "outputId": "b2a94747-6521-4b4c-96f8-b3671e770560"
   },
   "outputs": [
    {
     "name": "stdout",
     "output_type": "stream",
     "text": [
      "Epoch 1/10\n",
      "WARNING:tensorflow:Model was constructed with shape (None, 1, 28, 28) for input KerasTensor(type_spec=TensorSpec(shape=(None, 1, 28, 28), dtype=tf.float32, name='flatten_input'), name='flatten_input', description=\"created by layer 'flatten_input'\"), but it was called on an input with incompatible shape (32, 28, 28).\n",
      "WARNING:tensorflow:Model was constructed with shape (None, 1, 28, 28) for input KerasTensor(type_spec=TensorSpec(shape=(None, 1, 28, 28), dtype=tf.float32, name='flatten_input'), name='flatten_input', description=\"created by layer 'flatten_input'\"), but it was called on an input with incompatible shape (32, 28, 28).\n",
      "1872/1875 [============================>.] - ETA: 0s - loss: 0.4965 - accuracy: 0.8258WARNING:tensorflow:Model was constructed with shape (None, 1, 28, 28) for input KerasTensor(type_spec=TensorSpec(shape=(None, 1, 28, 28), dtype=tf.float32, name='flatten_input'), name='flatten_input', description=\"created by layer 'flatten_input'\"), but it was called on an input with incompatible shape (None, 28, 28).\n",
      "1875/1875 [==============================] - 5s 2ms/step - loss: 0.4964 - accuracy: 0.8259 - val_loss: 0.4252 - val_accuracy: 0.8446\n",
      "Epoch 2/10\n",
      "1875/1875 [==============================] - 4s 2ms/step - loss: 0.3757 - accuracy: 0.8651 - val_loss: 0.4330 - val_accuracy: 0.8348\n",
      "Epoch 3/10\n",
      "1875/1875 [==============================] - 4s 2ms/step - loss: 0.3354 - accuracy: 0.8770 - val_loss: 0.3744 - val_accuracy: 0.8626\n",
      "Epoch 4/10\n",
      "1875/1875 [==============================] - 4s 2ms/step - loss: 0.3127 - accuracy: 0.8852 - val_loss: 0.3606 - val_accuracy: 0.8718\n",
      "Epoch 5/10\n",
      "1875/1875 [==============================] - 4s 2ms/step - loss: 0.2932 - accuracy: 0.8912 - val_loss: 0.3607 - val_accuracy: 0.8741\n",
      "Epoch 6/10\n",
      "1875/1875 [==============================] - 4s 2ms/step - loss: 0.2777 - accuracy: 0.8978 - val_loss: 0.3541 - val_accuracy: 0.8751\n",
      "Epoch 7/10\n",
      "1875/1875 [==============================] - 4s 2ms/step - loss: 0.2658 - accuracy: 0.9020 - val_loss: 0.3463 - val_accuracy: 0.8771\n",
      "Epoch 8/10\n",
      "1875/1875 [==============================] - 4s 2ms/step - loss: 0.2543 - accuracy: 0.9050 - val_loss: 0.3318 - val_accuracy: 0.8794\n",
      "Epoch 9/10\n",
      "1875/1875 [==============================] - 4s 2ms/step - loss: 0.2474 - accuracy: 0.9071 - val_loss: 0.3328 - val_accuracy: 0.8797\n",
      "Epoch 10/10\n",
      "1875/1875 [==============================] - 4s 2ms/step - loss: 0.2363 - accuracy: 0.9124 - val_loss: 0.3417 - val_accuracy: 0.8815\n"
     ]
    }
   ],
   "source": [
    "model1.compile(optimizer='adam', loss='sparse_categorical_crossentropy', metrics=['accuracy'])\n",
    "history = model1.fit(training_images, training_labels, epochs=10, validation_data=(test_images, test_labels))"
   ]
  },
  {
   "cell_type": "code",
   "execution_count": 7,
   "metadata": {
    "colab": {
     "base_uri": "https://localhost:8080/"
    },
    "id": "QHHa3x88xobu",
    "outputId": "bf43273b-9ad2-44e6-e613-11b8b474bdb4"
   },
   "outputs": [
    {
     "name": "stdout",
     "output_type": "stream",
     "text": [
      "313/313 [==============================] - 1s 2ms/step - loss: 0.3417 - accuracy: 0.8815\n",
      "test loss 0.3416576385498047\n",
      "test aaccuracy 0.8815000057220459\n"
     ]
    }
   ],
   "source": [
    "test_loss = model1.evaluate(test_images, test_labels)\n",
    "print(\"test loss\", test_loss[0])\n",
    "print(\"test aaccuracy\", test_loss[1])"
   ]
  },
  {
   "cell_type": "code",
   "execution_count": 8,
   "metadata": {},
   "outputs": [
    {
     "data": {
      "image/png": "[encoded data removed]",
      "text/plain": [
       "<Figure size 432x288 with 1 Axes>"
      ]
     },
     "metadata": {
      "needs_background": "light"
     },
     "output_type": "display_data"
    },
    {
     "data": {
      "image/png": "[encoded data removed]",
      "text/plain": [
       "<Figure size 432x288 with 1 Axes>"
      ]
     },
     "metadata": {
      "needs_background": "light"
     },
     "output_type": "display_data"
    }
   ],
   "source": [
    "import matplotlib.pyplot as plt\n",
    "\n",
    "def plot_graphs(history, string):\n",
    "  plt.plot(history.history[string])\n",
    "  plt.plot(history.history['val_'+string])\n",
    "  plt.xlabel(\"Epochs\")\n",
    "  plt.ylabel(string)\n",
    "  plt.legend([string, 'val_'+string])\n",
    "  plt.show()\n",
    "  \n",
    "plot_graphs(history, \"accuracy\")\n",
    "plot_graphs(history, \"loss\")"
   ]
  },
  {
   "cell_type": "code",
   "execution_count": 9,
   "metadata": {
    "colab": {
     "base_uri": "https://localhost:8080/",
     "height": 316
    },
    "id": "RKpBMbsD0h27",
    "outputId": "4f24e794-bb53-49d4-f248-fec35b6277ad"
   },
   "outputs": [
    {
     "name": "stdout",
     "output_type": "stream",
     "text": [
      "original value:  6\n",
      "predicted value:  6\n",
      "AxesImage(54,36;334.8x217.44)\n"
     ]
    },
    {
     "data": {
      "image/png": "[encoded data removed]",
      "text/plain": [
       "<Figure size 432x288 with 1 Axes>"
      ]
     },
     "metadata": {
      "needs_background": "light"
     },
     "output_type": "display_data"
    }
   ],
   "source": [
    "val = random.randint(0,10000)\n",
    "result = model1.predict(test_images[val].reshape(-1, 1, 28, 28))\n",
    "result_val = np.where(result == np.amax(result))\n",
    "print(\"original value: \", test_labels[val])\n",
    "print(\"predicted value: \", result_val[1][0])\n",
    "print(plt.imshow(test_images[val]))"
   ]
  },
  {
   "cell_type": "code",
   "execution_count": 10,
   "metadata": {
    "colab": {
     "base_uri": "https://localhost:8080/",
     "height": 626
    },
    "id": "4D7Z1BFr306T",
    "outputId": "bb6ceb51-e652-4a7c-f61d-813a2eb8233a"
   },
   "outputs": [
    {
     "name": "stdout",
     "output_type": "stream",
     "text": [
      "original value:  8\n",
      "predicted value:  8\n",
      "AxesImage(54,36;334.8x217.44)\n"
     ]
    },
    {
     "data": {
      "image/png": "[encoded data removed]",
      "text/plain": [
       "<Figure size 432x288 with 1 Axes>"
      ]
     },
     "metadata": {
      "needs_background": "light"
     },
     "output_type": "display_data"
    }
   ],
   "source": [
    "val = random.randint(0,10000)\n",
    "result = model1.predict(test_images[val].reshape(-1, 1, 28, 28))\n",
    "result_val = np.where(result == np.amax(result))\n",
    "print(\"original value: \", test_labels[val])\n",
    "print(\"predicted value: \", result_val[1][0])\n",
    "print(plt.imshow(test_images[val]))"
   ]
  },
  {
   "cell_type": "markdown",
   "metadata": {
    "id": "Eg6C2CGQyK2r"
   },
   "source": [
    "## **MODEL 2 using convolutions**"
   ]
  },
  {
   "cell_type": "code",
   "execution_count": 11,
   "metadata": {
    "id": "RfTdpVyNyRpy"
   },
   "outputs": [],
   "source": [
    "mnist = tf.keras.datasets.fashion_mnist\n",
    "(training_images, training_labels), (test_images, test_labels) = mnist.load_data()\n",
    "(ti, tl), (tei, tel) = mnist.load_data()\n",
    "training_images=training_images.reshape(60000, 28, 28, 1)\n",
    "training_images=training_images / 255.0\n",
    "test_images = test_images.reshape(10000, 28, 28, 1)\n",
    "test_images=test_images/255.0"
   ]
  },
  {
   "cell_type": "code",
   "execution_count": 12,
   "metadata": {
    "id": "wggdAinYyUI_"
   },
   "outputs": [],
   "source": [
    "model = tf.keras.models.Sequential([\n",
    "  tf.keras.layers.Conv2D(64, (3,3), activation='relu', input_shape=(28, 28, 1)),\n",
    "  tf.keras.layers.MaxPooling2D(2, 2),\n",
    "  tf.keras.layers.Conv2D(64, (3,3), activation='relu'),\n",
    "  tf.keras.layers.MaxPooling2D(2,2),\n",
    "  tf.keras.layers.Flatten(),\n",
    "  tf.keras.layers.Dense(128, activation='relu'),\n",
    "  tf.keras.layers.Dense(10, activation='softmax')\n",
    "])"
   ]
  },
  {
   "cell_type": "code",
   "execution_count": 13,
   "metadata": {
    "colab": {
     "base_uri": "https://localhost:8080/"
    },
    "id": "dHxAuLIbyYKG",
    "outputId": "6821b5ae-b242-454a-87f1-37b0d59183b0"
   },
   "outputs": [
    {
     "name": "stdout",
     "output_type": "stream",
     "text": [
      "Model: \"sequential_1\"\n",
      "_________________________________________________________________\n",
      "Layer (type)                 Output Shape              Param #   \n",
      "=================================================================\n",
      "conv2d (Conv2D)              (None, 26, 26, 64)        640       \n",
      "_________________________________________________________________\n",
      "max_pooling2d (MaxPooling2D) (None, 13, 13, 64)        0         \n",
      "_________________________________________________________________\n",
      "conv2d_1 (Conv2D)            (None, 11, 11, 64)        36928     \n",
      "_________________________________________________________________\n",
      "max_pooling2d_1 (MaxPooling2 (None, 5, 5, 64)          0         \n",
      "_________________________________________________________________\n",
      "flatten_1 (Flatten)          (None, 1600)              0         \n",
      "_________________________________________________________________\n",
      "dense_2 (Dense)              (None, 128)               204928    \n",
      "_________________________________________________________________\n",
      "dense_3 (Dense)              (None, 10)                1290      \n",
      "=================================================================\n",
      "Total params: 243,786\n",
      "Trainable params: 243,786\n",
      "Non-trainable params: 0\n",
      "_________________________________________________________________\n"
     ]
    }
   ],
   "source": [
    "model.compile(optimizer='adam', loss='sparse_categorical_crossentropy', metrics=['accuracy'])\n",
    "model.summary()"
   ]
  },
  {
   "cell_type": "code",
   "execution_count": 14,
   "metadata": {
    "colab": {
     "base_uri": "https://localhost:8080/"
    },
    "id": "kT2CgoGayczJ",
    "outputId": "145a4f6f-ae38-43d2-961f-9c7982e593dc"
   },
   "outputs": [
    {
     "name": "stdout",
     "output_type": "stream",
     "text": [
      "Epoch 1/10\n",
      "1875/1875 [==============================] - 62s 33ms/step - loss: 0.4426 - accuracy: 0.8388 - val_loss: 0.3415 - val_accuracy: 0.8778\n",
      "Epoch 2/10\n",
      "1875/1875 [==============================] - 62s 33ms/step - loss: 0.2933 - accuracy: 0.8924 - val_loss: 0.2958 - val_accuracy: 0.8941\n",
      "Epoch 3/10\n",
      "1875/1875 [==============================] - 64s 34ms/step - loss: 0.2496 - accuracy: 0.9080 - val_loss: 0.2909 - val_accuracy: 0.8953\n",
      "Epoch 4/10\n",
      "1875/1875 [==============================] - 59s 31ms/step - loss: 0.2190 - accuracy: 0.9189 - val_loss: 0.2992 - val_accuracy: 0.8848\n",
      "Epoch 5/10\n",
      "1875/1875 [==============================] - 59s 32ms/step - loss: 0.1928 - accuracy: 0.9286 - val_loss: 0.2518 - val_accuracy: 0.9073\n",
      "Epoch 6/10\n",
      "1875/1875 [==============================] - 58s 31ms/step - loss: 0.1685 - accuracy: 0.9373 - val_loss: 0.2563 - val_accuracy: 0.9098\n",
      "Epoch 7/10\n",
      "1875/1875 [==============================] - 58s 31ms/step - loss: 0.1501 - accuracy: 0.9435 - val_loss: 0.2772 - val_accuracy: 0.9055\n",
      "Epoch 8/10\n",
      "1875/1875 [==============================] - 59s 32ms/step - loss: 0.1328 - accuracy: 0.9498 - val_loss: 0.2631 - val_accuracy: 0.9100\n",
      "Epoch 9/10\n",
      "1875/1875 [==============================] - 59s 32ms/step - loss: 0.1167 - accuracy: 0.9561 - val_loss: 0.2902 - val_accuracy: 0.9101\n",
      "Epoch 10/10\n",
      "1875/1875 [==============================] - 60s 32ms/step - loss: 0.1036 - accuracy: 0.9608 - val_loss: 0.3129 - val_accuracy: 0.9062\n"
     ]
    }
   ],
   "source": [
    "history = model.fit(training_images, training_labels, epochs=10, validation_data=(test_images, test_labels))"
   ]
  },
  {
   "cell_type": "code",
   "execution_count": 15,
   "metadata": {
    "colab": {
     "base_uri": "https://localhost:8080/"
    },
    "id": "vYTcrtbpzN9Z",
    "outputId": "6143f704-b792-4baf-bd74-9463e36fbbb5"
   },
   "outputs": [
    {
     "name": "stdout",
     "output_type": "stream",
     "text": [
      "313/313 [==============================] - 3s 9ms/step - loss: 0.3129 - accuracy: 0.9062\n",
      "test loss 0.3129176199436188\n",
      "test aaccuracy 0.9061999917030334\n"
     ]
    }
   ],
   "source": [
    "test_loss = model.evaluate(test_images, test_labels)\n",
    "print(\"test loss\", test_loss[0])\n",
    "print(\"test aaccuracy\", test_loss[1])"
   ]
  },
  {
   "cell_type": "code",
   "execution_count": 16,
   "metadata": {},
   "outputs": [
    {
     "data": {
      "image/png": "[encoded data removed]",
      "text/plain": [
       "<Figure size 432x288 with 1 Axes>"
      ]
     },
     "metadata": {
      "needs_background": "light"
     },
     "output_type": "display_data"
    },
    {
     "data": {
      "image/png": "[encoded data removed]",
      "text/plain": [
       "<Figure size 432x288 with 1 Axes>"
      ]
     },
     "metadata": {
      "needs_background": "light"
     },
     "output_type": "display_data"
    }
   ],
   "source": [
    "plot_graphs(history, \"accuracy\")\n",
    "plot_graphs(history, \"loss\")"
   ]
  },
  {
   "cell_type": "code",
   "execution_count": 17,
   "metadata": {
    "colab": {
     "base_uri": "https://localhost:8080/",
     "height": 316
    },
    "id": "tpYQYKDz3HI6",
    "outputId": "e5efe042-5c8c-45d3-ab81-da6e0c9b1b51"
   },
   "outputs": [
    {
     "name": "stdout",
     "output_type": "stream",
     "text": [
      "original value:  7\n",
      "predicted value:  7\n",
      "AxesImage(54,36;334.8x217.44)\n"
     ]
    },
    {
     "data": {
      "image/png": "[encoded data removed]",
      "text/plain": [
       "<Figure size 432x288 with 1 Axes>"
      ]
     },
     "metadata": {
      "needs_background": "light"
     },
     "output_type": "display_data"
    }
   ],
   "source": [
    "val = random.randint(0,10000)\n",
    "result = model.predict(test_images[val].reshape(1, 28, 28, 1))\n",
    "result_val = np.where(result == np.amax(result))\n",
    "print(\"original value: \", test_labels[val])\n",
    "print(\"predicted value: \", result_val[1][0])\n",
    "print(plt.imshow(tei[val]))"
   ]
  },
  {
   "cell_type": "code",
   "execution_count": 18,
   "metadata": {
    "colab": {
     "base_uri": "https://localhost:8080/",
     "height": 316
    },
    "id": "FxBWFoH83REj",
    "outputId": "1a9a1897-ee43-444e-ab36-177021818db1"
   },
   "outputs": [
    {
     "name": "stdout",
     "output_type": "stream",
     "text": [
      "original value:  5\n",
      "predicted value:  5\n",
      "AxesImage(54,36;334.8x217.44)\n"
     ]
    },
    {
     "data": {
      "image/png": "[encoded data removed]",
      "text/plain": [
       "<Figure size 432x288 with 1 Axes>"
      ]
     },
     "metadata": {
      "needs_background": "light"
     },
     "output_type": "display_data"
    }
   ],
   "source": [
    "val = random.randint(0,10000)\n",
    "result = model.predict(test_images[val].reshape(1, 28, 28, 1))\n",
    "result_val = np.where(result == np.amax(result))\n",
    "print(\"original value: \", test_labels[val])\n",
    "print(\"predicted value: \", result_val[1][0])\n",
    "print(plt.imshow(tei[val]))"
   ]
  },
  {
   "cell_type": "code",
   "execution_count": 19,
   "metadata": {},
   "outputs": [
    {
     "data": {
      "text/plain": [
       "'\\nusing DNN\\n313/313 [==============================] - 1s 2ms/step - loss: 0.3417 - accuracy: 0.8815\\ntest loss 0.3416576385498047\\ntest aaccuracy 0.8815000057220459\\nusing CNN\\n313/313 [==============================] - 3s 9ms/step - loss: 0.3129 - accuracy: 0.9062\\ntest loss 0.3129176199436188\\ntest aaccuracy 0.9061999917030334\\n'"
      ]
     },
     "execution_count": 19,
     "metadata": {},
     "output_type": "execute_result"
    }
   ],
   "source": [
    "# with convolutions we can achive higher accuracy with training and validation dataset.\n",
    "# this proves that convoliutions are better fit to work with when dealing with images.\n",
    "\"\"\"\n",
    "using DNN\n",
    "313/313 [==============================] - 1s 2ms/step - loss: 0.3417 - accuracy: 0.8815\n",
    "test loss 0.3416576385498047\n",
    "test aaccuracy 0.8815000057220459\n",
    "using CNN\n",
    "313/313 [==============================] - 3s 9ms/step - loss: 0.3129 - accuracy: 0.9062\n",
    "test loss 0.3129176199436188\n",
    "test aaccuracy 0.9061999917030334\n",
    "\"\"\""
   ]
  },
  {
   "cell_type": "code",
   "execution_count": null,
   "metadata": {},
   "outputs": [],
   "source": []
  }
 ],
 "metadata": {
  "accelerator": "GPU",
  "colab": {
   "collapsed_sections": [],
   "name": "Untitled5.ipynb",
   "provenance": []
  },
  "kernelspec": {
   "display_name": "Python 3",
   "language": "python",
   "name": "python3"
  },
  "language_info": {
   "codemirror_mode": {
    "name": "ipython",
    "version": 3
   },
   "file_extension": ".py",
   "mimetype": "text/x-python",
   "name": "python",
   "nbconvert_exporter": "python",
   "pygments_lexer": "ipython3",
   "version": "3.8.3"
  }
 },
 "nbformat": 4,
 "nbformat_minor": 1
}
